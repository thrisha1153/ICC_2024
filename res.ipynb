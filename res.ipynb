{
 "cells": [
  {
   "cell_type": "markdown",
   "metadata": {},
   "source": []
  },
  {
   "cell_type": "code",
   "execution_count": 1,
   "metadata": {},
   "outputs": [],
   "source": [
    "import pandas as pd\n",
    "import matplotlib.pyplot as plt"
   ]
  },
  {
   "cell_type": "code",
   "execution_count": 2,
   "metadata": {},
   "outputs": [
    {
     "data": {
      "text/html": [
       "<div>\n",
       "<style scoped>\n",
       "    .dataframe tbody tr th:only-of-type {\n",
       "        vertical-align: middle;\n",
       "    }\n",
       "\n",
       "    .dataframe tbody tr th {\n",
       "        vertical-align: top;\n",
       "    }\n",
       "\n",
       "    .dataframe thead th {\n",
       "        text-align: right;\n",
       "    }\n",
       "</style>\n",
       "<table border=\"1\" class=\"dataframe\">\n",
       "  <thead>\n",
       "    <tr style=\"text-align: right;\">\n",
       "      <th></th>\n",
       "      <th>Team 1</th>\n",
       "      <th>Team 2</th>\n",
       "      <th>Winner</th>\n",
       "      <th>Margin</th>\n",
       "      <th>Ground</th>\n",
       "      <th>Match Date</th>\n",
       "    </tr>\n",
       "  </thead>\n",
       "  <tbody>\n",
       "    <tr>\n",
       "      <th>0</th>\n",
       "      <td>United States of America</td>\n",
       "      <td>Canada</td>\n",
       "      <td>United States of America</td>\n",
       "      <td>7 wickets</td>\n",
       "      <td>Dallas</td>\n",
       "      <td>6/1/2024</td>\n",
       "    </tr>\n",
       "    <tr>\n",
       "      <th>1</th>\n",
       "      <td>West Indies</td>\n",
       "      <td>Papua New Guinea</td>\n",
       "      <td>West Indies</td>\n",
       "      <td>5 wickets</td>\n",
       "      <td>Providence</td>\n",
       "      <td>6/2/2024</td>\n",
       "    </tr>\n",
       "    <tr>\n",
       "      <th>2</th>\n",
       "      <td>Namibia</td>\n",
       "      <td>Oman</td>\n",
       "      <td>tied</td>\n",
       "      <td>-</td>\n",
       "      <td>Bridgetown</td>\n",
       "      <td>6/2/2024</td>\n",
       "    </tr>\n",
       "    <tr>\n",
       "      <th>3</th>\n",
       "      <td>South Africa</td>\n",
       "      <td>Sri Lanka</td>\n",
       "      <td>South Africa</td>\n",
       "      <td>6 wickets</td>\n",
       "      <td>New York</td>\n",
       "      <td>6/3/2024</td>\n",
       "    </tr>\n",
       "    <tr>\n",
       "      <th>4</th>\n",
       "      <td>Afghanistan</td>\n",
       "      <td>Uganda</td>\n",
       "      <td>Afghanistan</td>\n",
       "      <td>125 runs</td>\n",
       "      <td>Providence</td>\n",
       "      <td>6/3/2024</td>\n",
       "    </tr>\n",
       "  </tbody>\n",
       "</table>\n",
       "</div>"
      ],
      "text/plain": [
       "                     Team 1            Team 2                    Winner   \n",
       "0  United States of America            Canada  United States of America  \\\n",
       "1               West Indies  Papua New Guinea               West Indies   \n",
       "2                   Namibia              Oman                      tied   \n",
       "3              South Africa         Sri Lanka              South Africa   \n",
       "4               Afghanistan            Uganda               Afghanistan   \n",
       "\n",
       "      Margin      Ground Match Date  \n",
       "0  7 wickets      Dallas   6/1/2024  \n",
       "1  5 wickets  Providence   6/2/2024  \n",
       "2          -  Bridgetown   6/2/2024  \n",
       "3  6 wickets    New York   6/3/2024  \n",
       "4   125 runs  Providence   6/3/2024  "
      ]
     },
     "execution_count": 2,
     "metadata": {},
     "output_type": "execute_result"
    }
   ],
   "source": [
    "df=pd.read_csv(\"C:\\\\Users\\\\thris\\\\Downloads\\\\archive (2)\\\\match_results_for_icc_mens_t20_world_cup_2024.csv\")\n",
    "df.head()"
   ]
  },
  {
   "cell_type": "code",
   "execution_count": 5,
   "metadata": {},
   "outputs": [
    {
     "data": {
      "text/plain": [
       "Winner\n",
       "India                       8\n",
       "South Africa                8\n",
       "Afghanistan                 5\n",
       "Australia                   5\n",
       "West Indies                 5\n",
       "England                     4\n",
       "Bangladesh                  3\n",
       "Scotland                    2\n",
       "Pakistan                    2\n",
       "New Zealand                 2\n",
       "tied                        2\n",
       "Netherlands                 1\n",
       "Sri Lanka                   1\n",
       "Uganda                      1\n",
       "United States of America    1\n",
       "Canada                      1\n",
       "no result                   1\n",
       "Name: Winner, dtype: int64"
      ]
     },
     "execution_count": 5,
     "metadata": {},
     "output_type": "execute_result"
    }
   ],
   "source": [
    "df.groupby(\"Winner\")[\"Winner\"].count().sort_values(ascending=False)"
   ]
  },
  {
   "cell_type": "code",
   "execution_count": 6,
   "metadata": {},
   "outputs": [
    {
     "data": {
      "text/plain": [
       "Ground\n",
       "Bridgetown     9\n",
       "New York       8\n",
       "North Sound    8\n",
       "Providence     6\n",
       "Gros Islet     6\n",
       "Tarouba        5\n",
       "Kingstown      5\n",
       "Dallas         4\n",
       "Lauderhill     1\n",
       "Name: count, dtype: int64"
      ]
     },
     "execution_count": 6,
     "metadata": {},
     "output_type": "execute_result"
    }
   ],
   "source": [
    "df[\"Ground\"].value_counts()"
   ]
  },
  {
   "cell_type": "code",
   "execution_count": 8,
   "metadata": {},
   "outputs": [
    {
     "data": {
      "text/html": [
       "<div>\n",
       "<style scoped>\n",
       "    .dataframe tbody tr th:only-of-type {\n",
       "        vertical-align: middle;\n",
       "    }\n",
       "\n",
       "    .dataframe tbody tr th {\n",
       "        vertical-align: top;\n",
       "    }\n",
       "\n",
       "    .dataframe thead th {\n",
       "        text-align: right;\n",
       "    }\n",
       "</style>\n",
       "<table border=\"1\" class=\"dataframe\">\n",
       "  <thead>\n",
       "    <tr style=\"text-align: right;\">\n",
       "      <th></th>\n",
       "      <th>Team 1</th>\n",
       "      <th>Team 2</th>\n",
       "      <th>Winner</th>\n",
       "      <th>Ground</th>\n",
       "    </tr>\n",
       "  </thead>\n",
       "  <tbody>\n",
       "    <tr>\n",
       "      <th>7</th>\n",
       "      <td>India</td>\n",
       "      <td>Ireland</td>\n",
       "      <td>India</td>\n",
       "      <td>New York</td>\n",
       "    </tr>\n",
       "    <tr>\n",
       "      <th>18</th>\n",
       "      <td>India</td>\n",
       "      <td>Pakistan</td>\n",
       "      <td>India</td>\n",
       "      <td>New York</td>\n",
       "    </tr>\n",
       "    <tr>\n",
       "      <th>23</th>\n",
       "      <td>United States of America</td>\n",
       "      <td>India</td>\n",
       "      <td>India</td>\n",
       "      <td>New York</td>\n",
       "    </tr>\n",
       "    <tr>\n",
       "      <th>39</th>\n",
       "      <td>Afghanistan</td>\n",
       "      <td>India</td>\n",
       "      <td>India</td>\n",
       "      <td>Bridgetown</td>\n",
       "    </tr>\n",
       "    <tr>\n",
       "      <th>43</th>\n",
       "      <td>Bangladesh</td>\n",
       "      <td>India</td>\n",
       "      <td>India</td>\n",
       "      <td>North Sound</td>\n",
       "    </tr>\n",
       "    <tr>\n",
       "      <th>47</th>\n",
       "      <td>Australia</td>\n",
       "      <td>India</td>\n",
       "      <td>India</td>\n",
       "      <td>Gros Islet</td>\n",
       "    </tr>\n",
       "    <tr>\n",
       "      <th>50</th>\n",
       "      <td>England</td>\n",
       "      <td>India</td>\n",
       "      <td>India</td>\n",
       "      <td>Providence</td>\n",
       "    </tr>\n",
       "    <tr>\n",
       "      <th>51</th>\n",
       "      <td>India</td>\n",
       "      <td>South Africa</td>\n",
       "      <td>India</td>\n",
       "      <td>Bridgetown</td>\n",
       "    </tr>\n",
       "  </tbody>\n",
       "</table>\n",
       "</div>"
      ],
      "text/plain": [
       "                      Team 1        Team 2 Winner       Ground\n",
       "7                      India       Ireland  India     New York\n",
       "18                     India      Pakistan  India     New York\n",
       "23  United States of America         India  India     New York\n",
       "39               Afghanistan         India  India   Bridgetown\n",
       "43                Bangladesh         India  India  North Sound\n",
       "47                 Australia         India  India   Gros Islet\n",
       "50                   England         India  India   Providence\n",
       "51                     India  South Africa  India   Bridgetown"
      ]
     },
     "execution_count": 8,
     "metadata": {},
     "output_type": "execute_result"
    }
   ],
   "source": [
    "team=input(\"Team Name:\")\n",
    "d1=df[df[\"Winner\"]==team]\n",
    "\n",
    "res=d1[[\"Team 1\",\"Team 2\",\"Winner\",\"Ground\"]]\n",
    "res"
   ]
  },
  {
   "cell_type": "code",
   "execution_count": null,
   "metadata": {},
   "outputs": [],
   "source": []
  }
 ],
 "metadata": {
  "kernelspec": {
   "display_name": "Python 3",
   "language": "python",
   "name": "python3"
  },
  "language_info": {
   "codemirror_mode": {
    "name": "ipython",
    "version": 3
   },
   "file_extension": ".py",
   "mimetype": "text/x-python",
   "name": "python",
   "nbconvert_exporter": "python",
   "pygments_lexer": "ipython3",
   "version": "3.10.11"
  }
 },
 "nbformat": 4,
 "nbformat_minor": 2
}
